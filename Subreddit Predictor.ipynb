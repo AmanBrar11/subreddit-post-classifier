{
 "cells": [
  {
   "cell_type": "markdown",
   "id": "80c7b833",
   "metadata": {},
   "source": [
    "<h1><center>Subreddit Classifier</center></h1>\n",
    "My GitHub Repository for this project can be accessed here: (https://github.com/AmanBrar11/subreddit-post-classifier)\n",
    "\n",
    "## Introduction\n",
    "\n",
    "Welcome to my Jupyter Notebook for my Subreddit Post Classifier project. The goal of this project is to build a model to process and analyze a massive [dataset](https://github.com/linanqiu/reddit-dataset) containing over 260,000 posts and comments from various subreddits, which can then use this data to make predictions about where a given post or comment is from. These were all submissions by users to Reddit.com scraped directly from the website by the creator of the linked GitHub repository in 2016. By applying machine learning techniques, specifically a Random Forest Classifier, we are able to predict the subreddit category for given text posts with high accuracy.\n",
    "\n",
    "## Purpose\n",
    "\n",
    "The purpose of this project is twofold: firstly, to demonstrate the power of Natural Language Processing (NLP) and machine learning in classifying text data, and secondly, to provide a practical tool that can automatically categorize Reddit posts. This has numerous applications, from content filtering and recommendation systems to social media monitoring and data analysis.In the age of information overload, the ability to automatically sort and classify vast amounts of text data is invaluable. Not only does it aid in managing the data, but it also enables the extraction of insights and trends from specific communities. This project showcases how a relatively simple machine learning model can provide a high degree of accuracy in text classification tasks, paving the way for more complex and nuanced data analysis.\n",
    "\n",
    "## Real-World Applications\n",
    "\n",
    "This classifier can be employed in various real-world scenarios such as:\n",
    "\n",
    "- **Content Moderation:** Automatically flagging or categorizing posts for review to maintain community standards.\n",
    "- **Marketing Insights:** Analyzing customer sentiment and interests across different subreddit communities for targeted marketing.\n",
    "- **Trend Analysis:** Monitoring the popularity and discussion topics within communities over time to identify trends.\n",
    "- **Custom Feeds:** Creating personalized content feeds for users based on their interests.\n"
   ]
  },
  {
   "cell_type": "markdown",
   "id": "5730d012",
   "metadata": {},
   "source": [
    "## Data\n",
    "Once again here is the direct link (https://github.com/linanqiu/reddit-dataset) to the github repository from which this data was sourced from, it belongs to Linan Qiu and is under an MIT License. The source contains 51 seperate csv dataset, one for each subreddit. This combined for over 260,000 posts and comments throughout the entire dataset. The CSVs are described as having the following columns:\n",
    "- `text`: Text of the comment / thread\n",
    "- `id`: Unique reddit id for the comment / thread\n",
    "- `subreddit`: Subreddit that the comment / thread belongs to\n",
    "- `meta`: Metareddit that the comment / thread belongs to. Subreddits belong to metareddits. A subreddit can be `leagueoflegends`. The metareddit for that subreddit would be `gaming`, which can also include the subreddit `dota2`\n",
    "- `time`: UNIX timestamp of the comment / thread\n",
    "- `author`: Username of the author of the comment / thread\n",
    "- `ups`: Number of upvotes the comment / thread received\n",
    "- `downs`: Number of downvotes the comment / thread received\n",
    "- `authorlinkkarma`: The author's link karma. [What is Link Karma?](https://www.reddit.com/r/NoStupidQuestions/comments/2idfhk/what_is_link_karma/)\n",
    "- `authorkarma`: The author's karma. [Reddit FAQ](https://www.reddit.com/wiki/faq) explaining karma.\n",
    "- `authorisgold`: Boolean indicator for the gold status of the user. `1` for gold users, `0` for non-gold (normal) users. [Reddit FAQ](https://www.reddit.com/wiki/faq) explaining gold status."
   ]
  },
  {
   "cell_type": "markdown",
   "id": "9d5b3466",
   "metadata": {},
   "source": [
    "## Data Cleaning\n",
    "1. Since all the datasets were their own csv I started out by combining them all into one.\n",
    "2. Next I started cleaning the text getting rid of special characters and numbers\n",
    "3. Then I utilized a corpus of stop words to remove insignificant and common words from the data\n",
    "4. After that I stemmed the remaining words and got rid of any single letter tokens. \n",
    "5. Lastly, I replaced any empty strings with NaN and then dropped those rows."
   ]
  },
  {
   "cell_type": "markdown",
   "id": "3c270875",
   "metadata": {},
   "source": []
  },
  {
   "cell_type": "code",
   "execution_count": 1,
   "id": "9b84ca35",
   "metadata": {
    "scrolled": true
   },
   "outputs": [
    {
     "name": "stderr",
     "output_type": "stream",
     "text": [
      "C:\\Users\\amans\\anaconda3\\lib\\site-packages\\pandas\\core\\computation\\expressions.py:21: UserWarning: Pandas requires version '2.8.0' or newer of 'numexpr' (version '2.7.3' currently installed).\n",
      "  from pandas.core.computation.check import NUMEXPR_INSTALLED\n",
      "C:\\Users\\amans\\anaconda3\\lib\\site-packages\\pandas\\core\\arrays\\masked.py:62: UserWarning: Pandas requires version '1.3.4' or newer of 'bottleneck' (version '1.3.2' currently installed).\n",
      "  from pandas.core import (\n"
     ]
    }
   ],
   "source": [
    "import pandas as pd\n",
    "from sklearn.model_selection import train_test_split\n",
    "from sklearn.feature_extraction.text import TfidfVectorizer\n",
    "from sklearn.ensemble import RandomForestClassifier\n",
    "from sklearn.metrics import accuracy_score\n",
    "import re\n",
    "from nltk.corpus import stopwords\n",
    "from nltk.stem import WordNetLemmatizer"
   ]
  },
  {
   "cell_type": "code",
   "execution_count": 2,
   "id": "4ec9bb54",
   "metadata": {
    "scrolled": true
   },
   "outputs": [
    {
     "data": {
      "text/html": [
       "<div>\n",
       "<style scoped>\n",
       "    .dataframe tbody tr th:only-of-type {\n",
       "        vertical-align: middle;\n",
       "    }\n",
       "\n",
       "    .dataframe tbody tr th {\n",
       "        vertical-align: top;\n",
       "    }\n",
       "\n",
       "    .dataframe thead th {\n",
       "        text-align: right;\n",
       "    }\n",
       "</style>\n",
       "<table border=\"1\" class=\"dataframe\">\n",
       "  <thead>\n",
       "    <tr style=\"text-align: right;\">\n",
       "      <th></th>\n",
       "      <th>Unnamed: 0</th>\n",
       "      <th>0</th>\n",
       "      <th>1</th>\n",
       "      <th>2</th>\n",
       "      <th>3</th>\n",
       "      <th>4</th>\n",
       "      <th>5</th>\n",
       "      <th>6</th>\n",
       "      <th>7</th>\n",
       "      <th>8</th>\n",
       "      <th>9</th>\n",
       "      <th>10</th>\n",
       "      <th>11</th>\n",
       "    </tr>\n",
       "  </thead>\n",
       "  <tbody>\n",
       "    <tr>\n",
       "      <th>0</th>\n",
       "      <td>0</td>\n",
       "      <td>NaN</td>\n",
       "      <td>0</td>\n",
       "      <td>1</td>\n",
       "      <td>2</td>\n",
       "      <td>3</td>\n",
       "      <td>4.0</td>\n",
       "      <td>5</td>\n",
       "      <td>6.0</td>\n",
       "      <td>7.0</td>\n",
       "      <td>8.0</td>\n",
       "      <td>9.0</td>\n",
       "      <td>10.0</td>\n",
       "    </tr>\n",
       "    <tr>\n",
       "      <th>1</th>\n",
       "      <td>1</td>\n",
       "      <td>0.0</td>\n",
       "      <td>because she s the worst</td>\n",
       "      <td>d02u69l</td>\n",
       "      <td>anime</td>\n",
       "      <td>entertainment</td>\n",
       "      <td>1455683054.0</td>\n",
       "      <td>Redire77</td>\n",
       "      <td>7.0</td>\n",
       "      <td>0.0</td>\n",
       "      <td>352.0</td>\n",
       "      <td>14017.0</td>\n",
       "      <td>0.0</td>\n",
       "    </tr>\n",
       "    <tr>\n",
       "      <th>2</th>\n",
       "      <td>2</td>\n",
       "      <td>1.0</td>\n",
       "      <td>i am referring to  this   http  iimgurcom5sryl...</td>\n",
       "      <td>466ijy</td>\n",
       "      <td>anime</td>\n",
       "      <td>entertainment</td>\n",
       "      <td>1455682823.0</td>\n",
       "      <td>shiba_arata</td>\n",
       "      <td>0.0</td>\n",
       "      <td>0.0</td>\n",
       "      <td>1.0</td>\n",
       "      <td>20.0</td>\n",
       "      <td>0.0</td>\n",
       "    </tr>\n",
       "    <tr>\n",
       "      <th>3</th>\n",
       "      <td>3</td>\n",
       "      <td>2.0</td>\n",
       "      <td>cheating but zoldycks must have a great time a...</td>\n",
       "      <td>d02g879</td>\n",
       "      <td>anime</td>\n",
       "      <td>entertainment</td>\n",
       "      <td>1455661236.0</td>\n",
       "      <td>ShaKing807</td>\n",
       "      <td>6.0</td>\n",
       "      <td>0.0</td>\n",
       "      <td>1308.0</td>\n",
       "      <td>62021.0</td>\n",
       "      <td>1.0</td>\n",
       "    </tr>\n",
       "    <tr>\n",
       "      <th>4</th>\n",
       "      <td>4</td>\n",
       "      <td>3.0</td>\n",
       "      <td>kurosaki ichigo    http  images5fanpopcomimag...</td>\n",
       "      <td>d02v88z</td>\n",
       "      <td>anime</td>\n",
       "      <td>entertainment</td>\n",
       "      <td>1455684994.0</td>\n",
       "      <td>Tf2idlingftw</td>\n",
       "      <td>2.0</td>\n",
       "      <td>0.0</td>\n",
       "      <td>4156.0</td>\n",
       "      <td>1021.0</td>\n",
       "      <td>0.0</td>\n",
       "    </tr>\n",
       "  </tbody>\n",
       "</table>\n",
       "</div>"
      ],
      "text/plain": [
       "   Unnamed: 0    0                                                  1  \\\n",
       "0           0  NaN                                                  0   \n",
       "1           1  0.0                           because she s the worst    \n",
       "2           2  1.0  i am referring to  this   http  iimgurcom5sryl...   \n",
       "3           3  2.0  cheating but zoldycks must have a great time a...   \n",
       "4           4  3.0   kurosaki ichigo    http  images5fanpopcomimag...   \n",
       "\n",
       "         2      3              4             5             6    7    8  \\\n",
       "0        1      2              3           4.0             5  6.0  7.0   \n",
       "1  d02u69l  anime  entertainment  1455683054.0      Redire77  7.0  0.0   \n",
       "2   466ijy  anime  entertainment  1455682823.0   shiba_arata  0.0  0.0   \n",
       "3  d02g879  anime  entertainment  1455661236.0    ShaKing807  6.0  0.0   \n",
       "4  d02v88z  anime  entertainment  1455684994.0  Tf2idlingftw  2.0  0.0   \n",
       "\n",
       "        9       10    11  \n",
       "0     8.0      9.0  10.0  \n",
       "1   352.0  14017.0   0.0  \n",
       "2     1.0     20.0   0.0  \n",
       "3  1308.0  62021.0   1.0  \n",
       "4  4156.0   1021.0   0.0  "
      ]
     },
     "execution_count": 2,
     "metadata": {},
     "output_type": "execute_result"
    }
   ],
   "source": [
    "# importing data from a public github repo containing reddit posts from 50 subreddits\n",
    "base_url = 'https://raw.githubusercontent.com/linanqiu/reddit-dataset/master/'\n",
    "\n",
    "file_names = [\n",
    "    'entertainment_anime.csv',\n",
    "    'entertainment_comicbooks.csv',\n",
    "    'entertainment_harrypotter.csv',\n",
    "    'entertainment_movies.csv',\n",
    "    'entertainment_music.csv',\n",
    "    'entertainment_starwars.csv',\n",
    "    'gaming_dota2.csv',\n",
    "    'gaming_gaming.csv',\n",
    "    'gaming_leagueoflegends.csv',\n",
    "    'gaming_minecraft.csv',\n",
    "    'gaming_pokemon.csv',\n",
    "    'gaming_skyrim.csv',\n",
    "    'gaming_starcraft.csv',\n",
    "    'gaming_tf2.csv',\n",
    "    'humor_adviceanimals.csv',\n",
    "    'humor_circlejerk.csv',\n",
    "    'humor_facepalm.csv',\n",
    "    'humor_funny.csv',\n",
    "    'humor_imgoingtohellforthis.csv',\n",
    "    'humor_jokes.csv',\n",
    "    'learning_askhistorians.csv',\n",
    "    'learning_askscience.csv',\n",
    "    'learning_explainlikeimfive.csv',\n",
    "    'learning_science.csv',\n",
    "    'learning_space.csv',\n",
    "    'learning_todayilearned.csv',\n",
    "    'learning_youshouldknow.csv',\n",
    "    'lifestyle_drunk.csv',\n",
    "    'lifestyle_food.csv',\n",
    "    'lifestyle_frugal.csv',\n",
    "    'lifestyle_guns.csv',\n",
    "    'lifestyle_lifehacks.csv',\n",
    "    'lifestyle_motorcycles.csv',\n",
    "    'lifestyle_progresspics.csv',\n",
    "    'lifestyle_sex.csv',\n",
    "    'news_conservative.csv',\n",
    "    'news_conspiracy.csv',\n",
    "    'news_libertarian.csv',\n",
    "    'news_news.csv',\n",
    "    'news_offbeat.csv',\n",
    "    'news_politics.csv',\n",
    "    'news_truereddit.csv',\n",
    "    'news_worldnews.csv',\n",
    "    'television_breakingbad.csv',\n",
    "    'television_community.csv',\n",
    "    'television_doctorwho.csv',\n",
    "    'television_gameofthrones.csv',\n",
    "    'television_himym.csv',\n",
    "    'television_mylittlepony.csv',\n",
    "    'television_startrek.csv',\n",
    "    'television_thewalkingdead.csv',\n",
    "]\n",
    "\n",
    "dataframes = []\n",
    "for file_name in file_names:\n",
    "    # Combine the base URL with the file name\n",
    "    file_url = f'{base_url}{file_name}'\n",
    "    df = pd.read_csv(file_url)\n",
    "    dataframes.append(df)\n",
    "\n",
    "combined_df = pd.concat(dataframes, ignore_index=True)\n",
    "combined_df.head()"
   ]
  },
  {
   "cell_type": "code",
   "execution_count": 3,
   "id": "dd18a7ba",
   "metadata": {},
   "outputs": [
    {
     "data": {
      "text/html": [
       "<div>\n",
       "<style scoped>\n",
       "    .dataframe tbody tr th:only-of-type {\n",
       "        vertical-align: middle;\n",
       "    }\n",
       "\n",
       "    .dataframe tbody tr th {\n",
       "        vertical-align: top;\n",
       "    }\n",
       "\n",
       "    .dataframe thead th {\n",
       "        text-align: right;\n",
       "    }\n",
       "</style>\n",
       "<table border=\"1\" class=\"dataframe\">\n",
       "  <thead>\n",
       "    <tr style=\"text-align: right;\">\n",
       "      <th></th>\n",
       "      <th>text</th>\n",
       "      <th>subreddit</th>\n",
       "    </tr>\n",
       "  </thead>\n",
       "  <tbody>\n",
       "    <tr>\n",
       "      <th>1</th>\n",
       "      <td>because she s the worst</td>\n",
       "      <td>anime</td>\n",
       "    </tr>\n",
       "    <tr>\n",
       "      <th>2</th>\n",
       "      <td>i am referring to  this   http  iimgurcom5sryl...</td>\n",
       "      <td>anime</td>\n",
       "    </tr>\n",
       "    <tr>\n",
       "      <th>3</th>\n",
       "      <td>cheating but zoldycks must have a great time a...</td>\n",
       "      <td>anime</td>\n",
       "    </tr>\n",
       "    <tr>\n",
       "      <th>4</th>\n",
       "      <td>kurosaki ichigo    http  images5fanpopcomimag...</td>\n",
       "      <td>anime</td>\n",
       "    </tr>\n",
       "    <tr>\n",
       "      <th>5</th>\n",
       "      <td>there are a shit ton of koutarous  but the pre...</td>\n",
       "      <td>anime</td>\n",
       "    </tr>\n",
       "  </tbody>\n",
       "</table>\n",
       "</div>"
      ],
      "text/plain": [
       "                                                text subreddit\n",
       "1                           because she s the worst      anime\n",
       "2  i am referring to  this   http  iimgurcom5sryl...     anime\n",
       "3  cheating but zoldycks must have a great time a...     anime\n",
       "4   kurosaki ichigo    http  images5fanpopcomimag...     anime\n",
       "5  there are a shit ton of koutarous  but the pre...     anime"
      ]
     },
     "execution_count": 3,
     "metadata": {},
     "output_type": "execute_result"
    }
   ],
   "source": [
    "# restructing the dataframe to get ready for preprocessing\n",
    "df = combined_df[['1','3']].astype(str)\n",
    "df.columns = ['text', 'subreddit']\n",
    "df = df.iloc[1:, :]\n",
    "\n",
    "df.head()"
   ]
  },
  {
   "cell_type": "code",
   "execution_count": 4,
   "id": "0131295e",
   "metadata": {},
   "outputs": [],
   "source": [
    "# cleaning the text getting rid of special characters and numbers\n",
    "def clean_text(text):\n",
    "    text = re.sub('[^a-zA-Z]', ' ', text)\n",
    "    text = text.lower()\n",
    "    return text\n",
    "\n",
    "df['text'] = df['text'].apply(clean_text)"
   ]
  },
  {
   "cell_type": "code",
   "execution_count": 5,
   "id": "ffc0ecbc",
   "metadata": {},
   "outputs": [],
   "source": [
    "# removing common/insignificant english words\n",
    "df['text'] = df['text'].str.lower()\n",
    "from nltk.corpus import stopwords\n",
    "stop_words = set(stopwords.words('english'))\n",
    "\n",
    "def remove_stopwords(text):\n",
    "    return \" \".join([word for word in str(text).split() if word not in stop_words])\n",
    "\n",
    "df['text'] = df['text'].apply(remove_stopwords)"
   ]
  },
  {
   "cell_type": "code",
   "execution_count": 12,
   "id": "47945fe9",
   "metadata": {},
   "outputs": [],
   "source": [
    "# stemming and getting rid of short tokens\n",
    "lemmatizer = WordNetLemmatizer()\n",
    "\n",
    "def lemmatize_text(text):\n",
    "    return \" \".join([lemmatizer.lemmatize(word) for word in text.split()])\n",
    "\n",
    "def remove_short_tokens(text):\n",
    "    return \" \".join([word for word in text.split() if len(word) > 3])\n",
    "\n",
    "df['text'] = df['text'].apply(lemmatize_text)\n",
    "df['text'] = df['text'].apply(remove_short_tokens)"
   ]
  },
  {
   "cell_type": "code",
   "execution_count": 13,
   "id": "ddac2181",
   "metadata": {},
   "outputs": [],
   "source": [
    "# Replace empty strings with NaN\n",
    "df.replace(' ', pd.NA, inplace=True)\n",
    "df.dropna(inplace=True)"
   ]
  },
  {
   "cell_type": "markdown",
   "id": "5c59fd16",
   "metadata": {},
   "source": [
    "## Exploratory Data Analysis\n",
    "\n",
    "In the exploratory data analysis section, we observe a notable reduction in the number of rows. This decrease is primarily due to the removal of less significant words and short tokens, which significantly streamlined the dataset.\n",
    "\n",
    "The histogram reveals that the most prevalent subreddits in our dataset include categories such as gaming, lifestyle, humor, news, and television. These subreddits play a pivotal role in shaping the classifier, indicating their relative importance in the analysis. Additionally, the analysis sheds light on the most frequent tokens present in the dataset. Interestingly, these tokens are not standard English words. This might be an outcome of the data processing techniques used, or it could indicate the presence of common word roots from non-English languages, considering our filtering was focused on removing only common English terms."
   ]
  },
  {
   "cell_type": "code",
   "execution_count": 14,
   "id": "d5d5ab90",
   "metadata": {},
   "outputs": [
    {
     "data": {
      "text/plain": [
       "(1905833, 2)"
      ]
     },
     "execution_count": 14,
     "metadata": {},
     "output_type": "execute_result"
    }
   ],
   "source": [
    "df.shape"
   ]
  },
  {
   "cell_type": "code",
   "execution_count": 15,
   "id": "cb58e8ba",
   "metadata": {},
   "outputs": [
    {
     "data": {
      "text/html": [
       "<div>\n",
       "<style scoped>\n",
       "    .dataframe tbody tr th:only-of-type {\n",
       "        vertical-align: middle;\n",
       "    }\n",
       "\n",
       "    .dataframe tbody tr th {\n",
       "        vertical-align: top;\n",
       "    }\n",
       "\n",
       "    .dataframe thead th {\n",
       "        text-align: right;\n",
       "    }\n",
       "</style>\n",
       "<table border=\"1\" class=\"dataframe\">\n",
       "  <thead>\n",
       "    <tr style=\"text-align: right;\">\n",
       "      <th></th>\n",
       "      <th>text</th>\n",
       "      <th>subreddit</th>\n",
       "    </tr>\n",
       "  </thead>\n",
       "  <tbody>\n",
       "    <tr>\n",
       "      <th>1</th>\n",
       "      <td>becauseshestheworst</td>\n",
       "      <td>anime</td>\n",
       "    </tr>\n",
       "    <tr>\n",
       "      <th>2</th>\n",
       "      <td>iamreferringtothishttpiimgurcomsrylmijpgdoesit...</td>\n",
       "      <td>anime</td>\n",
       "    </tr>\n",
       "    <tr>\n",
       "      <th>3</th>\n",
       "      <td>cheatingbutzoldycksmusthaveagreattimeatthanksg...</td>\n",
       "      <td>anime</td>\n",
       "    </tr>\n",
       "    <tr>\n",
       "      <th>4</th>\n",
       "      <td>kurosakiichigohttpimagesfanpopcomimagephotosic...</td>\n",
       "      <td>anime</td>\n",
       "    </tr>\n",
       "    <tr>\n",
       "      <th>5</th>\n",
       "      <td>thereareashittonofkoutarousbutthepresenceofone...</td>\n",
       "      <td>anime</td>\n",
       "    </tr>\n",
       "  </tbody>\n",
       "</table>\n",
       "</div>"
      ],
      "text/plain": [
       "                                                text subreddit\n",
       "1                                becauseshestheworst     anime\n",
       "2  iamreferringtothishttpiimgurcomsrylmijpgdoesit...     anime\n",
       "3  cheatingbutzoldycksmusthaveagreattimeatthanksg...     anime\n",
       "4  kurosakiichigohttpimagesfanpopcomimagephotosic...     anime\n",
       "5  thereareashittonofkoutarousbutthepresenceofone...     anime"
      ]
     },
     "execution_count": 15,
     "metadata": {},
     "output_type": "execute_result"
    }
   ],
   "source": [
    "df.head()"
   ]
  },
  {
   "cell_type": "code",
   "execution_count": 16,
   "id": "b27a702b",
   "metadata": {},
   "outputs": [
    {
     "data": {
      "image/png": "[encoded data removed]",
      "text/plain": [
       "<Figure size 1000x600 with 1 Axes>"
      ]
     },
     "metadata": {},
     "output_type": "display_data"
    }
   ],
   "source": [
    "import pandas as pd\n",
    "import matplotlib.pyplot as plt\n",
    "# Count the occurrences of each subreddit\n",
    "subreddit_counts = df['subreddit'].value_counts()\n",
    "\n",
    "# Plotting\n",
    "plt.figure(figsize=(10,6))\n",
    "subreddit_counts.plot(kind='bar')\n",
    "plt.title('Histogram of Subreddit Counts')\n",
    "plt.xlabel('Subreddit')\n",
    "plt.ylabel('Count')\n",
    "plt.show()\n"
   ]
  },
  {
   "cell_type": "code",
   "execution_count": 17,
   "id": "6f4ae08d",
   "metadata": {},
   "outputs": [
    {
     "data": {
      "image/png": "[encoded data removed]",
      "text/plain": [
       "<Figure size 1000x600 with 1 Axes>"
      ]
     },
     "metadata": {},
     "output_type": "display_data"
    }
   ],
   "source": [
    "from collections import Counter\n",
    "word_counts = Counter(df['text'])\n",
    "\n",
    "# Getting the top 10 most common words\n",
    "top_10_words = word_counts.most_common(10)\n",
    "\n",
    "# Preparing data for plotting\n",
    "words, counts = zip(*top_10_words)\n",
    "\n",
    "# Plotting the histogram\n",
    "plt.figure(figsize=(10, 6))\n",
    "plt.bar(words, counts)\n",
    "plt.xlabel('Words')\n",
    "plt.ylabel('Count')\n",
    "plt.title('Top 10 Most Common Words')\n",
    "plt.show()"
   ]
  },
  {
   "cell_type": "markdown",
   "id": "aeeb2b7a",
   "metadata": {},
   "source": [
    "## Models\n",
    "\n",
    "In this section I test out four differnet models to see which is the best. I have to used 10% of the dataset because using the whole dataset would take too long looping thorough the model then the following grid search. The selected models for this examination were Naive Bayes, SVM (Support Vector Machine), Logistic Regression, and Random Forest. These models were chosen for their robustness and efficacy in handling datasets with a high dimensionality of features, which is a common scenario in complex classification tasks. Each of these models brings unique strengths to the table:\n",
    "\n",
    "Naive Bayes: Known for its simplicity and speed, especially in text classification and scenarios where the assumption of feature independence holds.\n",
    "\n",
    "SVM: Highly effective in high-dimensional spaces and versatile due to its kernel trick, making it suitable for non-linear classification.\n",
    "\n",
    "Logistic Regression: A go-to algorithm for binary classification problems, providing a probabilistic framework and interpretability.\n",
    "\n",
    "Random Forest: An ensemble method that excels in handling overfitting, capable of managing large datasets with higher dimensionality without sacrificing model accuracy.\n",
    "\n",
    "After a thorough assessment based on accuracy, the Random Forest model emerged as the superior choice. To optimize its performance, I conducted a grid search to determine the best hyperparameters, which revealed that a max_depth of 20 and n_estimators (number of trees in the forest) of 200 were ideal. These parameters strike a balance between model complexity and the risk of overfitting, leveraging the strength of Random Forest in creating an ensemble of deep trees without being overly specific to the training data.\n",
    "\n",
    "Equipped with these optimized parameters, I proceeded to train the Random Forest model on the entire dataset. This approach aimed to leverage the full breadth of available data, thereby enhancing the robustness of the model. By harnessing the entire dataset, the model benefits from a more comprehensive learning process, potentially capturing subtler patterns and relationships within the data that might have been overlooked in a smaller sample"
   ]
  },
  {
   "cell_type": "code",
   "execution_count": 18,
   "id": "7896a439",
   "metadata": {},
   "outputs": [],
   "source": [
    "# Using a smaller sample dataset since the orignal take too long\n",
    "sampled_df = df.sample(frac=0.1)"
   ]
  },
  {
   "cell_type": "code",
   "execution_count": 19,
   "id": "1f443d2e",
   "metadata": {},
   "outputs": [],
   "source": [
    "# spltting data into train/test sets\n",
    "X_train, X_test, y_train, y_test = train_test_split(sampled_df['text'], sampled_df['subreddit'], test_size=0.2, random_state=42)"
   ]
  },
  {
   "cell_type": "code",
   "execution_count": 20,
   "id": "b947e222",
   "metadata": {},
   "outputs": [],
   "source": [
    "# converting text data to numerical data using TF-IDF vectorization\n",
    "vectorizer = TfidfVectorizer(max_features=10000)\n",
    "X_train_vect = vectorizer.fit_transform(X_train)\n",
    "X_test_vect = vectorizer.transform(X_test)"
   ]
  },
  {
   "cell_type": "code",
   "execution_count": 22,
   "id": "8b8b5690",
   "metadata": {},
   "outputs": [
    {
     "name": "stdout",
     "output_type": "stream",
     "text": [
      "Best Model: Random Forest Accuracy: 0.81758237508908235\n"
     ]
    }
   ],
   "source": [
    "from sklearn.naive_bayes import MultinomialNB\n",
    "from sklearn.svm import SVC\n",
    "from sklearn.linear_model import LogisticRegression\n",
    "from sklearn.ensemble import RandomForestClassifier\n",
    "from sklearn.metrics import accuracy_score\n",
    "from sklearn.model_selection import train_test_split\n",
    "import numpy as np\n",
    "\n",
    "models = {\n",
    "    \"Naive Bayes\": MultinomialNB(),\n",
    "    \"SVM\": SVC(),\n",
    "    \"Logistic Regression\": LogisticRegression(max_iter=1000),\n",
    "    \"Random Forest\": RandomForestClassifier()\n",
    "}\n",
    "accuracy_scores = {}\n",
    "\n",
    "# Loop through each model and train on data\n",
    "for model_name, model in models.items():\n",
    "    model.fit(X_train_vect, y_train)\n",
    "    y_pred = model.predict(X_test_vect)\n",
    "    accuracy = accuracy_score(y_test, y_pred)\n",
    "    accuracy_scores[model_name] = accuracy\n",
    "\n",
    "# Find the model with the best accuracy\n",
    "best_model = max(accuracy_scores, key=accuracy_scores.get)\n",
    "best_accuracy = accuracy_scores[best_model]\n",
    "\n",
    "print(\"Best Model: \"+ str(best_model) + \" Accuracy: \" + str(best_accuracy))"
   ]
  },
  {
   "cell_type": "code",
   "execution_count": 23,
   "id": "31bdca6d",
   "metadata": {},
   "outputs": [
    {
     "name": "stdout",
     "output_type": "stream",
     "text": [
      "{'max_depth': 20, 'n_estimators': 200}\n"
     ]
    }
   ],
   "source": [
    "# further parameter tuning\n",
    "from sklearn.model_selection import GridSearchCV\n",
    "\n",
    "param_grid = {\n",
    "    'n_estimators': [100, 200],\n",
    "    'max_depth': [None, 10, 20, 30]\n",
    "}\n",
    "\n",
    "CV_clf = GridSearchCV(estimator=clf, param_grid=param_grid, cv=5)\n",
    "CV_clf.fit(X_train_vect, y_train)\n",
    "print(CV_clf.best_params_)"
   ]
  },
  {
   "cell_type": "code",
   "execution_count": 24,
   "id": "3cc27c02",
   "metadata": {},
   "outputs": [],
   "source": [
    "# spltting data into train/test sets using the whole dataset\n",
    "X_train, X_test, y_train, y_test = train_test_split(df['text'], df['subreddit'], test_size=0.2, random_state=42)"
   ]
  },
  {
   "cell_type": "code",
   "execution_count": 25,
   "id": "7c06a203",
   "metadata": {},
   "outputs": [],
   "source": [
    "# converting text data to numerical data using TF-IDF vectorization\n",
    "vectorizer = TfidfVectorizer(max_features=10000)\n",
    "X_train_vect = vectorizer.fit_transform(X_train)\n",
    "X_test_vect = vectorizer.transform(X_test)"
   ]
  },
  {
   "cell_type": "code",
   "execution_count": 28,
   "id": "4618118f",
   "metadata": {},
   "outputs": [],
   "source": [
    "# training a random forest classifier\n",
    "clf = RandomForestClassifier(n_estimators=200, max_depth=20, random_state=42)\n",
    "clf.fit(X_train_vect, y_train)\n",
    "# making predictions based on classifier\n",
    "y_pred = clf.predict(X_test_vect)"
   ]
  },
  {
   "cell_type": "markdown",
   "id": "e78bd8bd",
   "metadata": {},
   "source": [
    "## Results and Analysis\n",
    "\n",
    "Upon training the Random Forest Classifier, it was used to make predictions on the X_test dataset. The  performance metrics were analyzed, including accuracy, precision, recall, and the F1 score. The model showcased a high accuracy of 0.89, indicative of its overall effectiveness in correctly classifying instances. However, a more nuanced understanding of its performance emerged upon examining the precision (0.72) and recall (0.93) scores, alongside an F1 score of 0.82.\n",
    "\n",
    "The significantly higher recall compared to precision suggests that the model is exceptionally adept at identifying most of the relevant cases (true positives). A recall of 0.93 means the classifier successfully captures 93% of the actual positive instances. However, the lower precision score of 0.72 indicates that among the instances it classifies as positive, only 72% are actually positive. This discrepancy could imply a tendency of the model to have a higher rate of false positives – predicting some negative instances as positive.\n",
    "\n",
    "The F1 score, being a reasonable mean of precision and recall, provides a balanced view of the model's performance. An F1 score of 0.82 indicates that the model achieves a decent balance between recall and precision, despite the disparity between them.\n",
    "\n",
    "In summary, while the model demonstrates high accuracy and recall, indicating its capability to identify most positive cases, the relatively lower precision suggests room for improvement in reducing false positives. This analysis underscores the importance of considering multiple metrics beyond accuracy to gain a comprehensive understanding of a classifier’s performance, particularly in the context of the problem's specific needs and constraints."
   ]
  },
  {
   "cell_type": "code",
   "execution_count": 40,
   "id": "d0bc923d",
   "metadata": {},
   "outputs": [
    {
     "name": "stdout",
     "output_type": "stream",
     "text": [
      "Random Forest Summary:\n",
      "-------------------------------------\n",
      "Accuracy: 0.89456268147961113\n",
      "Precision: 0.71891238012490584\n",
      "Recall: 0.93420535082352344\n",
      "F1 Score: 0.81829105711209472\n"
     ]
    }
   ],
   "source": [
    "from sklearn.metrics import precision_score, recall_score, f1_score\n",
    "# printing summary stats\n",
    "print('Random Forest Summary:')\n",
    "print('-------------------------------------')\n",
    "# getting accuracy of my classifier\n",
    "\n",
    "accuracy = accuracy_score(y_test, y_pred)\n",
    "print(f\"Accuracy: {accuracy}\")\n",
    "\n",
    "# getting the precision\n",
    "precision = precision_score(y_test, y_pred)\n",
    "print(f\"Precision: {precision}\")\n",
    "\n",
    "# Calculate Recall\n",
    "recall = recall_score(y_test, y_pred)\n",
    "print(f\"Recall: {recall}\")\n",
    "\n",
    "# Calculate F1 Score\n",
    "f1 = f1_score(y_test, y_pred)\n",
    "print(f\"F1 Score: {f1}\")"
   ]
  },
  {
   "cell_type": "code",
   "execution_count": 41,
   "id": "c5b7eeca",
   "metadata": {},
   "outputs": [],
   "source": [
    "# function for applying the classifier to new text posts\n",
    "def predict_subreddit(text):\n",
    "    text = clean_text(text)  # Clean the new text\n",
    "    text_vect = vectorizer.transform([text])  # Vectorize the new text\n",
    "    prediction = clf.predict(text_vect)  # Predict the subreddit\n",
    "    return prediction[0]"
   ]
  },
  {
   "cell_type": "code",
   "execution_count": 42,
   "id": "81c3dc52",
   "metadata": {
    "scrolled": true
   },
   "outputs": [
    {
     "name": "stdout",
     "output_type": "stream",
     "text": [
      "learning\n"
     ]
    }
   ],
   "source": [
    "print(predict_subreddit(\"Here's a new Reddit post text to classify\"))"
   ]
  },
  {
   "cell_type": "markdown",
   "id": "851b6f11",
   "metadata": {},
   "source": [
    "## Conclusion and Discussion\n",
    "A few challenges that I encountered during this project was dealing with an extremely large dataset along with complex machine learning models. To combat this I used a smaller sample size to do some of the analysis, but this still involved a lot of waiting. Overall, this project demonstrates a lot of potential. By successfully classifying Reddit posts into their respective subreddits, this project not only highlights the effectiveness of Natural Language Processing in content classification but also exhibits its application in broader digital content management and analysis. Such a classifier can be instrumental in areas like content moderation, trend identification, and user engagement analysis, offering invaluable tools for both social media platforms and marketers. The insights gained from this project underscore the transformative impact of machine learning in interpreting and organizing vast amounts of data in the digital age."
   ]
  }
 ],
 "metadata": {
  "kernelspec": {
   "display_name": "Python 3 (ipykernel)",
   "language": "python",
   "name": "python3"
  },
  "language_info": {
   "codemirror_mode": {
    "name": "ipython",
    "version": 3
   },
   "file_extension": ".py",
   "mimetype": "text/x-python",
   "name": "python",
   "nbconvert_exporter": "python",
   "pygments_lexer": "ipython3",
   "version": "3.9.16"
  }
 },
 "nbformat": 4,
 "nbformat_minor": 5
}
